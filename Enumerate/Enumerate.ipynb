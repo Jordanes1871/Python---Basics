{
 "cells": [
  {
   "cell_type": "markdown",
   "metadata": {},
   "source": [
    "## Enumerate Tutorial"
   ]
  },
  {
   "cell_type": "markdown",
   "metadata": {},
   "source": [
    "The enumerate() function is a Python built-in function that takes an iterable (a collection of items or any other Python object that supports iteration, such as tuples, lists, sets, or strings), iterates through its items under the hood, and returns an enumerate object.\n",
    "\n",
    "After creating an enumerate object, we can then convert it into a list, a tuple, or a dictionary (using the list(), tuple(), or dict() functions respectively), or to loop directly through this object to access both the items and their corresponding indices."
   ]
  },
  {
   "cell_type": "markdown",
   "metadata": {},
   "source": [
    "### Enumerate a List"
   ]
  },
  {
   "cell_type": "code",
   "execution_count": 1,
   "metadata": {},
   "outputs": [
    {
     "name": "stdout",
     "output_type": "stream",
     "text": [
      "<class 'enumerate'>\n",
      "<enumerate object at 0x7fac30149cc0>\n"
     ]
    }
   ],
   "source": [
    "drinks = ['tea', 'coffee', 'cappuccino', 'lemonade']\n",
    "enumerated_drinks = enumerate(drinks)\n",
    "# object type is enumerate\n",
    "print(type(enumerated_drinks))\n",
    "# object is enumerate and where it is store din the computer memory\n",
    "print(enumerated_drinks)"
   ]
  },
  {
   "cell_type": "code",
   "execution_count": 2,
   "metadata": {},
   "outputs": [
    {
     "ename": "TypeError",
     "evalue": "'enumerate' object is not subscriptable",
     "output_type": "error",
     "traceback": [
      "\u001b[0;31m---------------------------------------------------------------------------\u001b[0m",
      "\u001b[0;31mTypeError\u001b[0m                                 Traceback (most recent call last)",
      "\u001b[0;32m<ipython-input-2-0075ce598bdf>\u001b[0m in \u001b[0;36m<module>\u001b[0;34m\u001b[0m\n\u001b[1;32m      1\u001b[0m \u001b[0;31m## cannot access the 1st element of this enumerated object this way\u001b[0m\u001b[0;34m\u001b[0m\u001b[0;34m\u001b[0m\u001b[0;34m\u001b[0m\u001b[0m\n\u001b[0;32m----> 2\u001b[0;31m \u001b[0mprint\u001b[0m\u001b[0;34m(\u001b[0m\u001b[0menumerated_drinks\u001b[0m\u001b[0;34m[\u001b[0m\u001b[0;36m0\u001b[0m\u001b[0;34m]\u001b[0m\u001b[0;34m)\u001b[0m\u001b[0;34m\u001b[0m\u001b[0;34m\u001b[0m\u001b[0m\n\u001b[0m",
      "\u001b[0;31mTypeError\u001b[0m: 'enumerate' object is not subscriptable"
     ]
    }
   ],
   "source": [
    "## cannot access the 1st element of this enumerated object this way\n",
    "print(enumerated_drinks[0])"
   ]
  },
  {
   "cell_type": "code",
   "execution_count": 3,
   "metadata": {},
   "outputs": [
    {
     "name": "stdout",
     "output_type": "stream",
     "text": [
      "[(0, 'tea'), (1, 'coffee'), (2, 'cappuccino'), (3, 'lemonade')]\n"
     ]
    }
   ],
   "source": [
    "# instead we convert to a list, a tuple or dictionary\n",
    "list_enumerated_drinks = list(enumerated_drinks)\n",
    "print(list_enumerated_drinks)"
   ]
  },
  {
   "cell_type": "markdown",
   "metadata": {},
   "source": [
    "each item represents a 2-element tuple where the first element is the index of the corresponding item in the original list and the second is the item itself."
   ]
  },
  {
   "cell_type": "code",
   "execution_count": 4,
   "metadata": {},
   "outputs": [
    {
     "name": "stdout",
     "output_type": "stream",
     "text": [
      "(0, 'tea')\n",
      "tea\n"
     ]
    }
   ],
   "source": [
    "#access all elements of the 1st tuple\n",
    "print(list_enumerated_drinks[0])\n",
    "#access the 2nd element of the 1st tuple\n",
    "print(list_enumerated_drinks[0][1])"
   ]
  },
  {
   "cell_type": "markdown",
   "metadata": {},
   "source": [
    "Let's try now to convert an enumerate object created from the original list into a tuple. In addition, this time, we'll set the start optional parameter to 1:"
   ]
  },
  {
   "cell_type": "code",
   "execution_count": 5,
   "metadata": {},
   "outputs": [
    {
     "name": "stdout",
     "output_type": "stream",
     "text": [
      "((1, 'tea'), (2, 'coffee'), (3, 'cappuccino'), (4, 'lemonade'))\n"
     ]
    }
   ],
   "source": [
    "#start = 1 , starts the index at count 1 to make it more human style\n",
    "tuple_enumerated_drinks = tuple(enumerate(drinks, start=1))\n",
    "#tuple is created\n",
    "print(tuple_enumerated_drinks)"
   ]
  },
  {
   "cell_type": "code",
   "execution_count": 6,
   "metadata": {},
   "outputs": [
    {
     "name": "stdout",
     "output_type": "stream",
     "text": [
      "(0, 'tea')\n",
      "(1, 'coffee')\n",
      "(2, 'cappuccino')\n",
      "(3, 'lemonade')\n"
     ]
    },
    {
     "ename": "StopIteration",
     "evalue": "",
     "output_type": "error",
     "traceback": [
      "\u001b[0;31m---------------------------------------------------------------------------\u001b[0m",
      "\u001b[0;31mStopIteration\u001b[0m                             Traceback (most recent call last)",
      "\u001b[0;32m<ipython-input-6-6944e36849c3>\u001b[0m in \u001b[0;36m<module>\u001b[0;34m\u001b[0m\n\u001b[1;32m      4\u001b[0m \u001b[0mprint\u001b[0m\u001b[0;34m(\u001b[0m\u001b[0mnext\u001b[0m\u001b[0;34m(\u001b[0m\u001b[0menumerated_drinks\u001b[0m\u001b[0;34m)\u001b[0m\u001b[0;34m)\u001b[0m\u001b[0;34m\u001b[0m\u001b[0;34m\u001b[0m\u001b[0m\n\u001b[1;32m      5\u001b[0m \u001b[0mprint\u001b[0m\u001b[0;34m(\u001b[0m\u001b[0mnext\u001b[0m\u001b[0;34m(\u001b[0m\u001b[0menumerated_drinks\u001b[0m\u001b[0;34m)\u001b[0m\u001b[0;34m)\u001b[0m\u001b[0;34m\u001b[0m\u001b[0;34m\u001b[0m\u001b[0m\n\u001b[0;32m----> 6\u001b[0;31m \u001b[0mprint\u001b[0m\u001b[0;34m(\u001b[0m\u001b[0mnext\u001b[0m\u001b[0;34m(\u001b[0m\u001b[0menumerated_drinks\u001b[0m\u001b[0;34m)\u001b[0m\u001b[0;34m)\u001b[0m\u001b[0;34m\u001b[0m\u001b[0;34m\u001b[0m\u001b[0m\n\u001b[0m",
      "\u001b[0;31mStopIteration\u001b[0m: "
     ]
    }
   ],
   "source": [
    "enumerated_drinks = enumerate(drinks)\n",
    "#call print 5 times which exceeds the number of tuples contained in the list\n",
    "print(next(enumerated_drinks))\n",
    "print(next(enumerated_drinks))\n",
    "print(next(enumerated_drinks))\n",
    "print(next(enumerated_drinks))\n",
    "print(next(enumerated_drinks))"
   ]
  },
  {
   "cell_type": "markdown",
   "metadata": {},
   "source": [
    "As we see, every time we call this method on an enumerate object, it returns the next item from it (and we can confirm once again that each item is a 2-element tuple containing the corresponding count-item pair). When all the items are finished, the enumerate object becomes exhausted, and the attempt to call the next() method on it results in throwing a StopIteration error."
   ]
  },
  {
   "cell_type": "code",
   "execution_count": 7,
   "metadata": {},
   "outputs": [
    {
     "name": "stdout",
     "output_type": "stream",
     "text": [
      "[]\n"
     ]
    }
   ],
   "source": [
    "print(list(enumerated_drinks))"
   ]
  },
  {
   "cell_type": "code",
   "execution_count": 17,
   "metadata": {},
   "outputs": [
    {
     "name": "stdout",
     "output_type": "stream",
     "text": [
      "(0, 'tea')\n",
      "(1, 'coffee')\n",
      "(2, 'cappuccino')\n",
      "(3, 'lemonade')\n"
     ]
    }
   ],
   "source": [
    "enumerated_drinks = enumerate(drinks)\n",
    "#call the exact number of tuples contained in the list retrieves no errors\n",
    "print(next(enumerated_drinks))\n",
    "print(next(enumerated_drinks))\n",
    "print(next(enumerated_drinks))\n",
    "print(next(enumerated_drinks))"
   ]
  },
  {
   "cell_type": "markdown",
   "metadata": {},
   "source": [
    "This means that at each application of the next() method on an enumerate object, an item is taken from the object, so each time it becomes smaller, up to total exhaustion."
   ]
  },
  {
   "cell_type": "markdown",
   "metadata": {},
   "source": [
    "### Enumerating a Tuple\n"
   ]
  },
  {
   "cell_type": "code",
   "execution_count": 8,
   "metadata": {},
   "outputs": [
    {
     "name": "stdout",
     "output_type": "stream",
     "text": [
      "<enumerate object at 0x7fabf0056f00>\n"
     ]
    }
   ],
   "source": [
    "drinks = ('tea', 'coffee', 'cappuccino', 'lemonade')\n",
    "enumerated_drinks = enumerate(drinks)\n",
    "print(enumerated_drinks)"
   ]
  },
  {
   "cell_type": "markdown",
   "metadata": {},
   "source": [
    "transform this object into another one, this time in a dictionary:"
   ]
  },
  {
   "cell_type": "code",
   "execution_count": 10,
   "metadata": {},
   "outputs": [
    {
     "name": "stdout",
     "output_type": "stream",
     "text": [
      "{0: 'tea', 1: 'coffee', 2: 'cappuccino', 3: 'lemonade'}\n"
     ]
    }
   ],
   "source": [
    "dict_enumerated_drinks = dict(enumerated_drinks)\n",
    "print(dict_enumerated_drinks)"
   ]
  },
  {
   "cell_type": "code",
   "execution_count": 11,
   "metadata": {},
   "outputs": [
    {
     "name": "stdout",
     "output_type": "stream",
     "text": [
      "tea\n",
      "lemonade\n"
     ]
    }
   ],
   "source": [
    "#obtain value corresponding to 1st key\n",
    "print(dict_enumerated_drinks[0])\n",
    "#obtain value corresponding to 4th key\n",
    "print(dict_enumerated_drinks[3])"
   ]
  },
  {
   "cell_type": "markdown",
   "metadata": {},
   "source": [
    "### Enumerating a String\n"
   ]
  },
  {
   "cell_type": "code",
   "execution_count": 12,
   "metadata": {},
   "outputs": [
    {
     "name": "stdout",
     "output_type": "stream",
     "text": [
      "<enumerate object at 0x7fac30158c00>\n"
     ]
    }
   ],
   "source": [
    "#start count at 10\n",
    "enumerated_hello_world = enumerate('Hello, World!', start=10)\n",
    "print(enumerated_hello_world)"
   ]
  },
  {
   "cell_type": "markdown",
   "metadata": {},
   "source": [
    "convert to list"
   ]
  },
  {
   "cell_type": "code",
   "execution_count": 14,
   "metadata": {},
   "outputs": [
    {
     "name": "stdout",
     "output_type": "stream",
     "text": [
      "[(10, 'H'), (11, 'e'), (12, 'l'), (13, 'l'), (14, 'o'), (15, ','), (16, ' '), (17, 'W'), (18, 'o'), (19, 'r'), (20, 'l'), (21, 'd'), (22, '!')]\n"
     ]
    }
   ],
   "source": [
    "list_enumerated_hello_world = list(enumerated_hello_world)\n",
    "#output splits up each chr as a set of tuples corresponding to their index i.e. (10, H) in the list\n",
    "print(list_enumerated_hello_world)"
   ]
  },
  {
   "cell_type": "markdown",
   "metadata": {},
   "source": [
    "Let's re-create the enumerated_hello_world object, this time without start=10, and apply the next method on it:"
   ]
  },
  {
   "cell_type": "code",
   "execution_count": 16,
   "metadata": {},
   "outputs": [
    {
     "name": "stdout",
     "output_type": "stream",
     "text": [
      "(0, 'H')\n",
      "(1, 'e')\n",
      "(2, 'l')\n",
      "(3, 'l')\n",
      "(4, 'o')\n",
      "(5, ',')\n",
      "[(6, ' '), (7, 'W'), (8, 'o'), (9, 'r'), (10, 'l'), (11, 'd'), (12, '!')]\n"
     ]
    }
   ],
   "source": [
    "enumerated_hello_world = enumerate('Hello, World!')\n",
    "print(next(enumerated_hello_world))\n",
    "print(next(enumerated_hello_world))\n",
    "print(next(enumerated_hello_world))\n",
    "print(next(enumerated_hello_world))\n",
    "print(next(enumerated_hello_world))\n",
    "print(next(enumerated_hello_world))\n",
    "\n",
    "# Creating a list from the remaining enumerate object\n",
    "print(list(enumerated_hello_world))"
   ]
  },
  {
   "cell_type": "markdown",
   "metadata": {},
   "source": [
    "In the last line of the above piece of code, we stopped applying the next() method and converted the enumerated_hello_world object into a list. The resulting list contains the remaining characters of the initial enumerate object after multiple applications of the next() method on it."
   ]
  },
  {
   "cell_type": "markdown",
   "metadata": {},
   "source": [
    "### Enumerating through a For-Loop\n"
   ]
  },
  {
   "cell_type": "code",
   "execution_count": 18,
   "metadata": {},
   "outputs": [
    {
     "name": "stdout",
     "output_type": "stream",
     "text": [
      "(0, 'tea')\n",
      "(1, 'coffee')\n",
      "(2, 'cappuccino')\n",
      "(3, 'lemonade')\n"
     ]
    }
   ],
   "source": [
    "for item in enumerate(['tea', 'coffee', 'cappuccino', 'lemonade']):\n",
    "  print(item)"
   ]
  },
  {
   "cell_type": "markdown",
   "metadata": {},
   "source": [
    "At each iteration, the corresponding count-item tuple is returned, just like it happens when we use the next() method.\n",
    "\n",
    "The enumerate object also loses its items (i.e., the 2-element tuples) one by one at each iteration.\n",
    "\n",
    "To demonstrate it, let's rewrite the above piece of code in a different form and check the length of the resulting list after finishing all the iterations:"
   ]
  },
  {
   "cell_type": "code",
   "execution_count": 19,
   "metadata": {},
   "outputs": [
    {
     "name": "stdout",
     "output_type": "stream",
     "text": [
      "(0, 'tea')\n",
      "(1, 'coffee')\n",
      "(2, 'cappuccino')\n",
      "(3, 'lemonade')\n",
      "[]\n"
     ]
    }
   ],
   "source": [
    "drinks = ['tea', 'coffee', 'cappuccino', 'lemonade']\n",
    "enumerated_drinks = enumerate(drinks)\n",
    "\n",
    "for item in enumerated_drinks:\n",
    "  print(item)\n",
    " \n",
    "print(list(enumerated_drinks))"
   ]
  },
  {
   "cell_type": "markdown",
   "metadata": {},
   "source": [
    "How can we access each element separately from each 2-element tuple? For this purpose, we'll add one more iteration variable and unpack the tuples:"
   ]
  },
  {
   "cell_type": "code",
   "execution_count": 20,
   "metadata": {},
   "outputs": [
    {
     "name": "stdout",
     "output_type": "stream",
     "text": [
      "0 tea\n",
      "1 coffee\n",
      "2 cappuccino\n",
      "3 lemonade\n"
     ]
    }
   ],
   "source": [
    "for count, drink in enumerate(['tea', 'coffee', 'cappuccino', 'lemonade']):\n",
    "    #  returned two variables for each tuple: one for the count of the item and one for the item itself \n",
    "    print(count, drink)"
   ]
  },
  {
   "cell_type": "markdown",
   "metadata": {},
   "source": [
    "can use a counter variable to reproduce the same result above"
   ]
  },
  {
   "cell_type": "code",
   "execution_count": 21,
   "metadata": {},
   "outputs": [
    {
     "name": "stdout",
     "output_type": "stream",
     "text": [
      "0 tea\n",
      "1 coffee\n",
      "2 cappuccino\n",
      "3 lemonade\n"
     ]
    }
   ],
   "source": [
    "count = 0\n",
    "for drink in ['tea', 'coffee', 'cappuccino', 'lemonade']:\n",
    "  print(count, drink)\n",
    "  count += 1"
   ]
  },
  {
   "cell_type": "markdown",
   "metadata": {},
   "source": [
    "Alternatively, we can use a combination of the range() and len() functions on a predefined list (or a tuple, a string, etc.)"
   ]
  },
  {
   "cell_type": "code",
   "execution_count": 23,
   "metadata": {},
   "outputs": [
    {
     "name": "stdout",
     "output_type": "stream",
     "text": [
      "0 tea\n",
      "1 coffee\n",
      "2 cappuccino\n",
      "3 lemonade\n"
     ]
    }
   ],
   "source": [
    "drinks = ['tea', 'coffee', 'cappuccino', 'lemonade']\n",
    "for count in range(len(drinks)):\n",
    "    print(count, drinks[count])"
   ]
  },
  {
   "cell_type": "markdown",
   "metadata": {},
   "source": [
    "    The range() function generates a sequence of numbers from 0 up to the length of the drinks list.\n",
    "\n",
    "    The len() function returns the number of items in the drinks list.\n",
    "\n",
    "    During each iteration of the loop, the current index is stored in the count variable, and the corresponding drink is accessed using drinks[count].\n",
    "\n"
   ]
  },
  {
   "cell_type": "markdown",
   "metadata": {},
   "source": [
    "Moreover, in both of these alternatives of the enumerate() function, we still can adjust the count variable to start not from zero:m"
   ]
  },
  {
   "cell_type": "code",
   "execution_count": 25,
   "metadata": {},
   "outputs": [
    {
     "name": "stdout",
     "output_type": "stream",
     "text": [
      "1 tea\n",
      "2 coffee\n",
      "3 cappuccino\n",
      "4 lemonade\n",
      "\n",
      "\n",
      "1 tea\n",
      "2 coffee\n",
      "3 cappuccino\n",
      "4 lemonade\n"
     ]
    }
   ],
   "source": [
    "count = 1\n",
    "for drink in ['tea', 'coffee', 'cappuccino', 'lemonade']:\n",
    "  print(count, drink)\n",
    "  count += 1\n",
    "\n",
    "print('\\n')\n",
    " \n",
    "drinks = ['tea', 'coffee', 'cappuccino', 'lemonade']\n",
    "for count in range(len(drinks)):\n",
    "  print(count + 1, drinks[count])"
   ]
  }
 ],
 "metadata": {
  "kernelspec": {
   "display_name": "Python 3",
   "language": "python",
   "name": "python3"
  },
  "language_info": {
   "codemirror_mode": {
    "name": "ipython",
    "version": 3
   },
   "file_extension": ".py",
   "mimetype": "text/x-python",
   "name": "python",
   "nbconvert_exporter": "python",
   "pygments_lexer": "ipython3",
   "version": "3.8.5"
  }
 },
 "nbformat": 4,
 "nbformat_minor": 4
}
